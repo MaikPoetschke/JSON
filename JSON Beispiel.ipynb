{
 "cells": [
  {
   "cell_type": "code",
   "execution_count": 1,
   "metadata": {},
   "outputs": [
    {
     "name": "stdout",
     "output_type": "stream",
     "text": [
      "{'maps': [{'id': 'blabla', 'iscategorical': '0'}, {'id': 'blabla', 'iscategorical': '0'}], 'masks': {'id': 'valore'}, 'om_points': 'value', 'parameters': {'id': 'valore'}}\n"
     ]
    }
   ],
   "source": [
    "import json\n",
    "\n",
    "json_data=open(\"c:\\TempMP\\python\\json.txt\").read()\n",
    "\n",
    "data = json.loads(json_data)\n",
    "print(data)"
   ]
  },
  {
   "cell_type": "code",
   "execution_count": 2,
   "metadata": {
    "scrolled": false
   },
   "outputs": [
    {
     "name": "stdout",
     "output_type": "stream",
     "text": [
      "blabla\n",
      "valore\n",
      "value\n"
     ]
    }
   ],
   "source": [
    "print(data[\"maps\"][0][\"id\"])\n",
    "print(data[\"masks\"][\"id\"])\n",
    "print(data[\"om_points\"])"
   ]
  },
  {
   "cell_type": "code",
   "execution_count": 3,
   "metadata": {},
   "outputs": [
    {
     "name": "stdout",
     "output_type": "stream",
     "text": [
      "{'PolicyPeriod': {'EffectiveDatedFields': {'PaymentPeriod_ZDE': 'tc_yearly', 'RateType_ZDE': 'tc_normal'}, 'PolicyStartDate': '2017-12-13', 'TermEndDate_ZDE': '2020-12-13', 'Policy': {'ProductCode': 'NGEB_SideBuilding', 'Account': {'ProducerCodes': [{'ProducerCode': {'Code': '220000001'}}]}}, 'GEBLine': {'GEBRiskLocations': [{'Location': {'PostalCode': '01067', 'Country': 'tc_DE', 'AddressLine1': 'Bremer Str.', 'HouseNumber_ZDE': '9', 'City': 'Dresden'}, 'GEBCoverables': [{'BurglaryRiskSelection': True, 'ElementaryRiskSelection': False, 'FireRiskSelection': True, 'GaleHailRiskSelection': True, 'SurgeRiskSelection': True, 'TapWaterRiskSelection': True, 'BenefitReduction': 'tc_250_eur', 'Building': {'BuildingType_ZDE': 'tc_gardenhousemore25sqm', 'BuildingSubtype_ZDE': 'tc_Outbuilding', 'RoofType': 'tc_Class_R_N_ZDE', 'BasementExists_ZDE': False, 'AreaFinished': 150, 'LivingHobbyAreaLess50Perc_ZDE': False, 'OutsideWall_ZDE': 'tc_Class_R_ZDE', 'YearBuilt': 2016, 'ReadyForOccupation_ZDE': '2018-03-13', 'BuildingUnderConstruction_ZDE': True}, 'Coverages': [{'Pattern': {'PublicID': 'GEB_PhotovoltaicCov'}}, {'Pattern': {'PublicID': 'GEB_DmgCsdByInsRiskOutBuildCov'}, 'CovTerms': [{'ValueAsString': '100000', 'Pattern': {'PublicID': 'GEB_CostMonumDmgCsdByInsRiskOutBuildTerm'}}, {'ValueAsString': '80000', 'Pattern': {'PublicID': 'GEB_TotalLimitDmgCsdByInsRiskOutBuildTerm'}}]}, {'Pattern': {'PublicID': 'GEB_FrostOnPlotCov'}, 'CovTerms': [{'ValueAsString': '5000', 'Pattern': {'PublicID': 'GEB_DirLimEURDisPipesBuildFrostOnPlotTerm'}}]}]}]}]}}}\n"
     ]
    }
   ],
   "source": [
    "import json\n",
    "\n",
    "json_data=open(\"c:\\TempMP\\python\\Preisjson.txt\").read()\n",
    "\n",
    "data = json.loads(json_data)\n",
    "print(data)"
   ]
  },
  {
   "cell_type": "code",
   "execution_count": 4,
   "metadata": {},
   "outputs": [
    {
     "name": "stdout",
     "output_type": "stream",
     "text": [
      "{'BuildingType_ZDE': 'tc_gardenhousemore25sqm', 'BuildingSubtype_ZDE': 'tc_Outbuilding', 'RoofType': 'tc_Class_R_N_ZDE', 'BasementExists_ZDE': False, 'AreaFinished': 150, 'LivingHobbyAreaLess50Perc_ZDE': False, 'OutsideWall_ZDE': 'tc_Class_R_ZDE', 'YearBuilt': 2016, 'ReadyForOccupation_ZDE': '2018-03-13', 'BuildingUnderConstruction_ZDE': True}\n"
     ]
    },
    {
     "data": {
      "text/html": [
       "<div>\n",
       "<style>\n",
       "    .dataframe thead tr:only-child th {\n",
       "        text-align: right;\n",
       "    }\n",
       "\n",
       "    .dataframe thead th {\n",
       "        text-align: left;\n",
       "    }\n",
       "\n",
       "    .dataframe tbody tr th {\n",
       "        vertical-align: top;\n",
       "    }\n",
       "</style>\n",
       "<table border=\"1\" class=\"dataframe\">\n",
       "  <thead>\n",
       "    <tr style=\"text-align: right;\">\n",
       "      <th></th>\n",
       "      <th>0</th>\n",
       "    </tr>\n",
       "  </thead>\n",
       "  <tbody>\n",
       "    <tr>\n",
       "      <th>BuildingType_ZDE</th>\n",
       "      <td>tc_gardenhousemore25sqm</td>\n",
       "    </tr>\n",
       "    <tr>\n",
       "      <th>BuildingSubtype_ZDE</th>\n",
       "      <td>tc_Outbuilding</td>\n",
       "    </tr>\n",
       "    <tr>\n",
       "      <th>RoofType</th>\n",
       "      <td>tc_Class_R_N_ZDE</td>\n",
       "    </tr>\n",
       "    <tr>\n",
       "      <th>BasementExists_ZDE</th>\n",
       "      <td>False</td>\n",
       "    </tr>\n",
       "    <tr>\n",
       "      <th>AreaFinished</th>\n",
       "      <td>150</td>\n",
       "    </tr>\n",
       "    <tr>\n",
       "      <th>LivingHobbyAreaLess50Perc_ZDE</th>\n",
       "      <td>False</td>\n",
       "    </tr>\n",
       "    <tr>\n",
       "      <th>OutsideWall_ZDE</th>\n",
       "      <td>tc_Class_R_ZDE</td>\n",
       "    </tr>\n",
       "    <tr>\n",
       "      <th>YearBuilt</th>\n",
       "      <td>2016</td>\n",
       "    </tr>\n",
       "    <tr>\n",
       "      <th>ReadyForOccupation_ZDE</th>\n",
       "      <td>2018-03-13</td>\n",
       "    </tr>\n",
       "    <tr>\n",
       "      <th>BuildingUnderConstruction_ZDE</th>\n",
       "      <td>True</td>\n",
       "    </tr>\n",
       "  </tbody>\n",
       "</table>\n",
       "</div>"
      ],
      "text/plain": [
       "                                                     0\n",
       "BuildingType_ZDE               tc_gardenhousemore25sqm\n",
       "BuildingSubtype_ZDE                     tc_Outbuilding\n",
       "RoofType                              tc_Class_R_N_ZDE\n",
       "BasementExists_ZDE                               False\n",
       "AreaFinished                                       150\n",
       "LivingHobbyAreaLess50Perc_ZDE                    False\n",
       "OutsideWall_ZDE                         tc_Class_R_ZDE\n",
       "YearBuilt                                         2016\n",
       "ReadyForOccupation_ZDE                      2018-03-13\n",
       "BuildingUnderConstruction_ZDE                     True"
      ]
     },
     "execution_count": 4,
     "metadata": {},
     "output_type": "execute_result"
    }
   ],
   "source": [
    "import pandas as pd\n",
    "import numpy\n",
    "\n",
    "databuild = data[\"PolicyPeriod\"][\"GEBLine\"][\"GEBRiskLocations\"][0][\"GEBCoverables\"][0][\"Building\"]\n",
    "print(databuild)\n",
    "\n",
    "pd.DataFrame.from_dict(databuild, orient='index')"
   ]
  },
  {
   "cell_type": "code",
   "execution_count": null,
   "metadata": {
    "collapsed": true
   },
   "outputs": [],
   "source": []
  }
 ],
 "metadata": {
  "kernelspec": {
   "display_name": "Python 3",
   "language": "python",
   "name": "python3"
  },
  "language_info": {
   "codemirror_mode": {
    "name": "ipython",
    "version": 3
   },
   "file_extension": ".py",
   "mimetype": "text/x-python",
   "name": "python",
   "nbconvert_exporter": "python",
   "pygments_lexer": "ipython3",
   "version": "3.6.3"
  }
 },
 "nbformat": 4,
 "nbformat_minor": 2
}
